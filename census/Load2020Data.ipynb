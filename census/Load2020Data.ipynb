{
 "cells": [
  {
   "cell_type": "code",
   "execution_count": 1,
   "metadata": {},
   "outputs": [],
   "source": [
    "import xlrd\n",
    "from os import path"
   ]
  },
  {
   "cell_type": "code",
   "execution_count": 2,
   "metadata": {},
   "outputs": [],
   "source": [
    "arcpy.env.overwriteOutput = True\n",
    "\n",
    "working = path.normpath('D:/Staging/acs2020/')\n",
    "twb = path.join(working, 'Excel_Workbooks_for_Tracts')\n",
    "bwb = path.join(working, 'Excel_Workbooks_for_BlockGroups')\n",
    "tgdb = path.join(working, path.normpath('Geodatabase_Tables/Tables_for_Tracts.gdb'))\n",
    "bgdb = path.join(working, path.normpath('Geodatabase_Tables/Tables_for_BlockGroups.gdb'))\n",
    "\n",
    "exports = {twb: tgdb, bwb: bgdb}\n",
    "\n",
    "for k in exports.keys():\n",
    "    arcpy.env.workspace = k\n",
    "    workbook_list = [i for i in arcpy.ListWorkspaces() if path.basename(i) != 'XLSX_format_tables']\n",
    "    for workbook in workbook_list:\n",
    "        desc = arcpy.Describe(workbook)\n",
    "        workbook_name = desc.basename\n",
    "        open_book = xlrd.open_workbook(workbook)\n",
    "        workbook_sheets = open_book.sheet_names()\n",
    "        for sheet in workbook_sheets:\n",
    "            if sheet != 'Data_Dictionary':\n",
    "                arcpy.ExcelToTable_conversion(workbook, path.join(exports[k], workbook_name), sheet)"
   ]
  },
  {
   "cell_type": "code",
   "execution_count": 4,
   "metadata": {},
   "outputs": [
    {
     "name": "stdout",
     "output_type": "stream",
     "text": [
      "Starting GDB 1 of 1\n",
      "Found 60 tables in GDB 1\n",
      "Finished GDB 1 of 1\n",
      "0:04:06.865109\n"
     ]
    }
   ],
   "source": [
    "arcpy.env.addOutputsToMap = False\n",
    "\n",
    "from os import path\n",
    "from datetime import datetime\n",
    "\n",
    "start = datetime.now()\n",
    "\n",
    "table_gdb = [\n",
    "#     path.normpath('D:/Staging/acs2020/Geodatabase_Tables/Tables_for_Tracts.gdb'), \n",
    "    path.normpath('D:/Staging/acs2020/Geodatabase_Tables/Tables_for_BlockGroups.gdb')\n",
    "]\n",
    "features_gdb = [\n",
    "#     path.normpath('D:/Staging/acs2020/Tracts_NM_ACS2020.gdb'), \n",
    "    path.normpath('D:/Staging/acs2020/BlockGroups_MRCOG_ACS2020.gdb')\n",
    "]\n",
    "fd = [\n",
    "#     'NM_Tracts_2020', \n",
    "    'MRCOG_BlockGroups_2020'\n",
    "]\n",
    "fc = [\n",
    "#     'NM_Tracts_2020', \n",
    "    'MRCOG_BlockGroups_2020'\n",
    "]\n",
    "\n",
    "fjoin = 'GEOID'\n",
    "tjoin = 'GIS_Join_Match_Code'\n",
    "\n",
    "for i in range(len(table_gdb)):\n",
    "    print('Starting GDB {} of {}'.format(i+1, len(table_gdb)))\n",
    "    arcpy.env.workspace = table_gdb[i]\n",
    "    #arcpy.env.overwriteOutput = True\n",
    "    features = path.join(features_gdb[i], fd[i], fc[i])\n",
    "    table_list = [str(t) for t in arcpy.ListTables()]\n",
    "    print('Found {} tables in GDB {}'.format(len(table_list), i+1))\n",
    "    for t in table_list:\n",
    "    \tout_fc = path.join(features_gdb[i], t)\n",
    "    \tarcpy.CopyFeatures_management(features, out_fc)\n",
    "    \tjoin_fields = [str(f.name) for f in arcpy.ListFields(t)][2:]\n",
    "    \tarcpy.JoinField_management(out_fc, fjoin, t, tjoin, join_fields)\n",
    "    print('Finished GDB {} of {}'.format(i+1, len(table_gdb)))\n",
    "\n",
    "print (datetime.now() - start)"
   ]
  },
  {
   "cell_type": "code",
   "execution_count": null,
   "metadata": {},
   "outputs": [],
   "source": []
  }
 ],
 "metadata": {
  "kernelspec": {
   "display_name": "ArcGISPro",
   "language": "Python",
   "name": "python3"
  },
  "language_info": {
   "file_extension": ".py",
   "name": "python",
   "version": "3"
  }
 },
 "nbformat": 4,
 "nbformat_minor": 2
}
